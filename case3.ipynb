{
  "nbformat": 4,
  "nbformat_minor": 0,
  "metadata": {
    "colab": {
      "provenance": [],
      "authorship_tag": "ABX9TyNIqOqzF3SqfUxtB2DhQnQ/",
      "include_colab_link": true
    },
    "kernelspec": {
      "name": "python3",
      "display_name": "Python 3"
    },
    "language_info": {
      "name": "python"
    }
  },
  "cells": [
    {
      "cell_type": "markdown",
      "metadata": {
        "id": "view-in-github",
        "colab_type": "text"
      },
      "source": [
        "<a href=\"https://colab.research.google.com/github/belogabriel/pandas_lib/blob/main/case3.ipynb\" target=\"_parent\"><img src=\"https://colab.research.google.com/assets/colab-badge.svg\" alt=\"Open In Colab\"/></a>"
      ]
    },
    {
      "cell_type": "code",
      "execution_count": null,
      "metadata": {
        "colab": {
          "base_uri": "https://localhost:8080/"
        },
        "id": "THr7Q3gwkWIz",
        "outputId": "31c41ddd-f968-4e83-cc1b-7b1c4ab0ae3c"
      },
      "outputs": [
        {
          "output_type": "stream",
          "name": "stdout",
          "text": [
            "solicitações:  1 -> treinamentos: Cloud\n",
            "valor:  20\n",
            "solicitações:  6 -> treinamentos: Data Science\n",
            "valor:  40\n",
            "solicitações:  5 -> treinamentos: Gestão de Projetos\n",
            "valor:  50\n",
            "solicitações:  3 -> treinamentos: Marketing\n",
            "valor:  30\n",
            "solicitações:  4 -> treinamentos: Python\n",
            "valor:  30\n",
            "solicitações:  2 -> treinamentos: Scrum\n",
            "valor:  30\n"
          ]
        }
      ],
      "source": [
        "#declarando vars\n",
        "treinamentos = [{'treinamento':'Scrum','moedas':30},\n",
        "                {'treinamento':'Data Science','moedas':40},\n",
        "                {'treinamento':'Gestão de Projetos','moedas':50}\n",
        "                , {'treinamento':'Marketing','moedas':30},\n",
        "                {'treinamento':'Cloud','moedas':20},\n",
        "                {'treinamento':'Blockchain','moedas':10},\n",
        "                {'treinamento':'Python','moedas':30}]\n",
        "\n",
        "pedidos = ['Scrum','Data Science','Gestão de Projetos','Marketing','Cloud','Python','Python','Python', 'Scrum','Data Science','Gestão de Projetos','Marketing','Data Science','Gestão de Projetos', 'Python','Marketing','Data Science','Gestão de Projetos','Data Science','Gestão de Projetos','Data Science']\n",
        "\n",
        "#funcao\n",
        "\n",
        "def get_value (x,b):\n",
        "  for a in x:\n",
        "    if a['treinamento'] in b:\n",
        "      print('valor: ',a['moedas'])\n",
        "      return a['moedas']\n",
        "\n",
        "ped = sorted(set(pedidos))\n",
        "for a in ped:\n",
        "  print('solicitações: ',pedidos.count(a), '-> treinamentos:',a)\n",
        "  valor = get_value(treinamentos,a)\n",
        "  for b in treinamentos:\n",
        "    if a ==b['treinamento']:\n",
        "      b['total_pedidos']=pedidos.count(a)\n"
      ]
    },
    {
      "cell_type": "code",
      "source": [
        "treinamentos"
      ],
      "metadata": {
        "colab": {
          "base_uri": "https://localhost:8080/"
        },
        "id": "WUZ_4CfyvA6K",
        "outputId": "4e3eda92-8505-4ffd-baa1-7392dd31e6e9"
      },
      "execution_count": null,
      "outputs": [
        {
          "output_type": "execute_result",
          "data": {
            "text/plain": [
              "[{'moedas': 30, 'total_pedidos': 2, 'treinamento': 'Scrum'},\n",
              " {'moedas': 40, 'total_pedidos': 6, 'treinamento': 'Data Science'},\n",
              " {'moedas': 50, 'total_pedidos': 5, 'treinamento': 'Gestão de Projetos'},\n",
              " {'moedas': 30, 'total_pedidos': 3, 'treinamento': 'Marketing'},\n",
              " {'moedas': 20, 'total_pedidos': 1, 'treinamento': 'Cloud'},\n",
              " {'moedas': 10, 'treinamento': 'Blockchain'},\n",
              " {'moedas': 30, 'total_pedidos': 4, 'treinamento': 'Python'}]"
            ]
          },
          "metadata": {},
          "execution_count": 20
        }
      ]
    },
    {
      "cell_type": "code",
      "source": [
        "# vars 2\n",
        "budget = 150\n",
        "count = 6\n",
        "total = []\n",
        "\n",
        "#program\n",
        "\n",
        "while budget >0:\n",
        "  for a in treinamentos:\n",
        "    qtd = a.get('total_pedidos',0)\n",
        "    if qtd == count:\n",
        "      print('treinamento',a['treinamento'], 'comprado')\n",
        "      total.append(qtd)\n",
        "      budget = budget-a['moedas']\n",
        "      count=count-1\n",
        "    else:\n",
        "      continue\n",
        "percentual = (sum(total)/len(pedidos))*100\n",
        "print(f'total de pedidos atendidos: {sum(total)}, representando: {percentual:.2f}% de atendimento\\nbudgets em caixa: {budget}')"
      ],
      "metadata": {
        "colab": {
          "base_uri": "https://localhost:8080/"
        },
        "id": "_YlUXWAExdAx",
        "outputId": "ac3a9bf6-b18e-4bbe-cb93-b13d15c32fd2"
      },
      "execution_count": null,
      "outputs": [
        {
          "output_type": "stream",
          "name": "stdout",
          "text": [
            "treinamento Data Science comprado\n",
            "treinamento Gestão de Projetos comprado\n",
            "treinamento Python comprado\n",
            "treinamento Marketing comprado\n",
            "total de pedidos atendidos: 18, representando: 85.71% de atendimento\n",
            "budgets em caixa: 0\n"
          ]
        }
      ]
    }
  ]
}