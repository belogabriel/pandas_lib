{
  "nbformat": 4,
  "nbformat_minor": 0,
  "metadata": {
    "colab": {
      "provenance": [],
      "include_colab_link": true
    },
    "kernelspec": {
      "name": "python3",
      "display_name": "Python 3"
    },
    "language_info": {
      "name": "python"
    }
  },
  "cells": [
    {
      "cell_type": "markdown",
      "metadata": {
        "id": "view-in-github",
        "colab_type": "text"
      },
      "source": [
        "<a href=\"https://colab.research.google.com/github/belogabriel/pandas_lib/blob/main/pandaspractice_Titanicdataset.ipynb\" target=\"_parent\"><img src=\"https://colab.research.google.com/assets/colab-badge.svg\" alt=\"Open In Colab\"/></a>"
      ]
    },
    {
      "cell_type": "code",
      "execution_count": null,
      "metadata": {
        "colab": {
          "base_uri": "https://localhost:8080/"
        },
        "id": "FH-6Y39Dg_RP",
        "outputId": "c2a545d1-f336-42de-e201-af596285801a"
      },
      "outputs": [
        {
          "output_type": "stream",
          "name": "stdout",
          "text": [
            "unzip:  cannot find or open titanic.zip, titanic.zip.zip or titanic.zip.ZIP.\n"
          ]
        }
      ],
      "source": [
        "!unzip titanic.zip"
      ]
    },
    {
      "cell_type": "code",
      "source": [
        "file = open('test.csv', mode='r')\n",
        "content = file.read()\n",
        "content"
      ],
      "metadata": {
        "colab": {
          "base_uri": "https://localhost:8080/",
          "height": 200
        },
        "id": "UGzq23lxhSmf",
        "outputId": "9ec60ee1-1a4d-4514-b1e1-9c8ea5b7344a"
      },
      "execution_count": null,
      "outputs": [
        {
          "output_type": "error",
          "ename": "FileNotFoundError",
          "evalue": "ignored",
          "traceback": [
            "\u001b[0;31m---------------------------------------------------------------------------\u001b[0m",
            "\u001b[0;31mFileNotFoundError\u001b[0m                         Traceback (most recent call last)",
            "\u001b[0;32m<ipython-input-4-316de5896d9d>\u001b[0m in \u001b[0;36m<module>\u001b[0;34m()\u001b[0m\n\u001b[0;32m----> 1\u001b[0;31m \u001b[0mfile\u001b[0m \u001b[0;34m=\u001b[0m \u001b[0mopen\u001b[0m\u001b[0;34m(\u001b[0m\u001b[0;34m'test.csv'\u001b[0m\u001b[0;34m,\u001b[0m \u001b[0mmode\u001b[0m\u001b[0;34m=\u001b[0m\u001b[0;34m'r'\u001b[0m\u001b[0;34m)\u001b[0m\u001b[0;34m\u001b[0m\u001b[0;34m\u001b[0m\u001b[0m\n\u001b[0m\u001b[1;32m      2\u001b[0m \u001b[0mcontent\u001b[0m \u001b[0;34m=\u001b[0m \u001b[0mfile\u001b[0m\u001b[0;34m.\u001b[0m\u001b[0mread\u001b[0m\u001b[0;34m(\u001b[0m\u001b[0;34m)\u001b[0m\u001b[0;34m\u001b[0m\u001b[0;34m\u001b[0m\u001b[0m\n\u001b[1;32m      3\u001b[0m \u001b[0mcontent\u001b[0m\u001b[0;34m\u001b[0m\u001b[0;34m\u001b[0m\u001b[0m\n",
            "\u001b[0;31mFileNotFoundError\u001b[0m: [Errno 2] No such file or directory: 'test.csv'"
          ]
        }
      ]
    },
    {
      "cell_type": "code",
      "source": [
        "new_content = []\n",
        "for linha in content.split('\\n'):\n",
        "  new_content.append(linha.split(','))"
      ],
      "metadata": {
        "id": "CS-fFqrJhZzC"
      },
      "execution_count": null,
      "outputs": []
    },
    {
      "cell_type": "code",
      "source": [
        "import numpy as np\n",
        "np.array(new_content)"
      ],
      "metadata": {
        "id": "-pFp6GouhkTf"
      },
      "execution_count": null,
      "outputs": []
    },
    {
      "cell_type": "code",
      "source": [
        "import pandas as pd\n",
        "train = pd.read_csv('train.csv')\n",
        "test = pd.read_csv('test.csv')\n",
        "survived = pd.read_csv('gender_submission.csv')"
      ],
      "metadata": {
        "id": "Mh9QjRDEhw4t"
      },
      "execution_count": null,
      "outputs": []
    },
    {
      "cell_type": "code",
      "source": [
        "train"
      ],
      "metadata": {
        "id": "vd3Z-CHkibKO"
      },
      "execution_count": null,
      "outputs": []
    },
    {
      "cell_type": "code",
      "source": [
        "test"
      ],
      "metadata": {
        "id": "Bjq7vmO-iceh"
      },
      "execution_count": null,
      "outputs": []
    },
    {
      "cell_type": "code",
      "source": [
        "\n",
        "test_survived = pd.merge(test, survived, how='right')\n",
        "test_survived"
      ],
      "metadata": {
        "id": "3mVFgrXPjahW"
      },
      "execution_count": null,
      "outputs": []
    },
    {
      "cell_type": "code",
      "source": [
        "dados = pd.concat([train, test_survived])\n",
        "dados.shape"
      ],
      "metadata": {
        "id": "0XYGsOrwh7pI"
      },
      "execution_count": null,
      "outputs": []
    },
    {
      "cell_type": "code",
      "source": [
        "dados"
      ],
      "metadata": {
        "id": "2WG3loKriXjs"
      },
      "execution_count": null,
      "outputs": []
    },
    {
      "cell_type": "code",
      "source": [
        "dados.to_csv('dados_tratados.csv')"
      ],
      "metadata": {
        "id": "8LA3u5BwjsMQ"
      },
      "execution_count": null,
      "outputs": []
    },
    {
      "cell_type": "code",
      "source": [
        "dados = dados.set_index('Name')"
      ],
      "metadata": {
        "id": "YIA9NFrLj3wN"
      },
      "execution_count": null,
      "outputs": []
    },
    {
      "cell_type": "code",
      "source": [
        "dados.loc['Henriksson, Miss. Jenny Lovisa':'Ware, Mr. Frederick', 'Pclass':'Fare'] #basea no index do dataframe"
      ],
      "metadata": {
        "id": "8fXkgK28kbDW"
      },
      "execution_count": null,
      "outputs": []
    },
    {
      "cell_type": "code",
      "source": [
        "dados.iloc[-1000:, -3:] # basea no index do python"
      ],
      "metadata": {
        "id": "fcx8B68hkkuz"
      },
      "execution_count": null,
      "outputs": []
    },
    {
      "cell_type": "code",
      "source": [
        "embarked_s = dados['Embarked'] == 'S' # Embarcaram em S\n",
        "not_embarked_c = dados['Embarked'] != 'C' # Não embarcaram em C\n",
        "not_embarked_s_q = ~(dados['Embarked'].isin(['S', 'Q'])) #Não embarcaram em S e Q\n",
        "filtro = not_embarked_c | embarked_s"
      ],
      "metadata": {
        "id": "N7xFsk07lDF0"
      },
      "execution_count": null,
      "outputs": []
    },
    {
      "cell_type": "code",
      "source": [
        "dados[filtro]"
      ],
      "metadata": {
        "id": "nKQuJ7rDlgED"
      },
      "execution_count": null,
      "outputs": []
    },
    {
      "cell_type": "code",
      "source": [
        "age_mean = dados['Age'].dropna().mean()"
      ],
      "metadata": {
        "id": "rNCGRLlFnc9e"
      },
      "execution_count": null,
      "outputs": []
    },
    {
      "cell_type": "code",
      "source": [
        "dados['Age'].fillna(round(age_mean), inplace=True)\n",
        "# dados['Age'] = dados['Age'].fillna(round(age_mean)"
      ],
      "metadata": {
        "id": "g2srpyvfnqZP"
      },
      "execution_count": null,
      "outputs": []
    },
    {
      "cell_type": "code",
      "source": [
        "dados['Age']"
      ],
      "metadata": {
        "id": "xSFBVT_VoLkq"
      },
      "execution_count": null,
      "outputs": []
    },
    {
      "cell_type": "code",
      "source": [
        "eq_age_35 = dados['Age'] == 35\n",
        "lt_age_35 = dados['Age'] < 35\n",
        "ge_age_35 = dados['Age'] >= 35\n",
        "dados[ge_age_35]"
      ],
      "metadata": {
        "id": "ytPMdXyEoW0Q"
      },
      "execution_count": null,
      "outputs": []
    },
    {
      "cell_type": "code",
      "source": [
        "dados['Embarked'].map({\n",
        "    'S': 1,\n",
        "    'Q': 2,\n",
        "    'C': 3\n",
        "})"
      ],
      "metadata": {
        "id": "V3Bonl3TpD0s"
      },
      "execution_count": null,
      "outputs": []
    },
    {
      "cell_type": "code",
      "source": [
        "dados['Embarked'].value_counts()"
      ],
      "metadata": {
        "id": "c7lhZ0nypMme"
      },
      "execution_count": null,
      "outputs": []
    },
    {
      "cell_type": "code",
      "source": [
        "dados['Embarked']"
      ],
      "metadata": {
        "id": "_11fu2oKp1PX"
      },
      "execution_count": null,
      "outputs": []
    },
    {
      "cell_type": "code",
      "source": [
        "import matplotlib.pyplot as plt"
      ],
      "metadata": {
        "id": "weDf7jyBoWCP"
      },
      "execution_count": null,
      "outputs": []
    },
    {
      "cell_type": "code",
      "source": [
        "fig = dados['Embarked'].value_counts().plot.pie().get_figure()\n",
        "fig.savefig('Embarked.png')"
      ],
      "metadata": {
        "id": "aTYovunPpoEl"
      },
      "execution_count": null,
      "outputs": []
    },
    {
      "cell_type": "code",
      "source": [],
      "metadata": {
        "id": "QeoYU5y1qGaA"
      },
      "execution_count": null,
      "outputs": []
    },
    {
      "cell_type": "code",
      "source": [
        "plt.pie(dados['Embarked'].value_counts())\n",
        "plt.legend()\n",
        "plt.title('Embarked')"
      ],
      "metadata": {
        "id": "p2Hkd3wfo2EF"
      },
      "execution_count": null,
      "outputs": []
    },
    {
      "cell_type": "code",
      "source": [
        "# dados[dados['Age'].isna()]\n",
        "# dados[dados['Age'].isna()].index\n",
        "# dados.dropna(subset=['Age'])"
      ],
      "metadata": {
        "id": "Zjw_14V-mMF2"
      },
      "execution_count": null,
      "outputs": []
    },
    {
      "cell_type": "code",
      "source": [],
      "metadata": {
        "id": "jsmXMObpmxTS"
      },
      "execution_count": null,
      "outputs": []
    }
  ]
}